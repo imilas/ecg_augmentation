{
 "cells": [
  {
   "cell_type": "code",
   "execution_count": 1,
   "id": "9af2bb30",
   "metadata": {},
   "outputs": [
    {
     "name": "stderr",
     "output_type": "stream",
     "text": [
      "/home/amirsalimi/miniconda3/envs/ecg_augment/lib/python3.10/site-packages/tqdm/auto.py:22: TqdmWarning: IProgress not found. Please update jupyter and ipywidgets. See https://ipywidgets.readthedocs.io/en/stable/user_install.html\n",
      "  from .autonotebook import tqdm as notebook_tqdm\n"
     ]
    }
   ],
   "source": [
    "\n",
    "from helper_code import *\n",
    "import numpy as np, os, sys, joblib\n",
    "import ecg_plot\n",
    "import pandas as pd\n",
    "from glob import glob\n",
    "import os\n",
    "from torch.utils.data import Dataset, DataLoader\n",
    "from sklearn.model_selection import train_test_split\n",
    "from tsai.all import *\n",
    "import torch\n",
    "from sklearn.metrics import classification_report\n",
    "import transformation_funcs as tfs\n",
    "import seaborn as sns\n",
    "from torchsummary import summary\n",
    "torch.cuda.set_device(2) "
   ]
  },
  {
   "cell_type": "code",
   "execution_count": 28,
   "id": "71e53a84",
   "metadata": {},
   "outputs": [
    {
     "data": {
      "text/plain": [
       "((10247, 12, 5000), (10247, 8))"
      ]
     },
     "execution_count": 28,
     "metadata": {},
     "output_type": "execute_result"
    }
   ],
   "source": [
    "\n",
    "# DATASET_NAME = \"WFDB_CPSC2018_signitured\"\n",
    "DATASET_NAME = \"WFDB_ChapmanShaoxing_signitured\"\n",
    "X = np.load('./data/big_numpy_datasets/%s.npy'%DATASET_NAME, mmap_mode='c')\n",
    "label_df = pd.read_csv(\"data/%s.csv\"%DATASET_NAME).drop(columns=[\"headers\",\"leads\"])\n",
    "y = snomedConvert(label_df)\n",
    "# get diseases that exist in more than 5 percent of the samples\n",
    "y=y[y.columns[y.sum()>(0.05*y.shape[0])]]\n",
    "y.reset_index(drop=True)\n",
    "X.shape,y.shape"
   ]
  },
  {
   "cell_type": "code",
   "execution_count": 29,
   "id": "f3bb4765",
   "metadata": {},
   "outputs": [
    {
     "data": {
      "text/plain": [
       "(9910, 337, 13979)"
      ]
     },
     "execution_count": 29,
     "metadata": {},
     "output_type": "execute_result"
    }
   ],
   "source": [
    "# more than 1 label, 0 labels, total num labels, \n",
    "np.sum(y.sum(axis=1)>0),np.sum(y.sum(axis=1)==0),y.sum().sum()"
   ]
  },
  {
   "cell_type": "code",
   "execution_count": 34,
   "id": "7ac36c36",
   "metadata": {},
   "outputs": [
    {
     "data": {
      "text/plain": [
       "((6877, 12, 14000), (6877, 7))"
      ]
     },
     "execution_count": 34,
     "metadata": {},
     "output_type": "execute_result"
    }
   ],
   "source": [
    "\n",
    "DATASET_NAME = \"WFDB_CPSC2018_signitured\"\n",
    "X = np.load('./data/big_numpy_datasets/%s.npy'%DATASET_NAME, mmap_mode='c')\n",
    "label_df = pd.read_csv(\"data/%s.csv\"%DATASET_NAME).drop(columns=[\"headers\",\"leads\"])\n",
    "y = snomedConvert(label_df)\n",
    "# get diseases that exist in more than 5 percent of the samples\n",
    "y=y[y.columns[y.sum()>(0.05*y.shape[0])]]\n",
    "y.reset_index(drop=True)\n",
    "X.shape,y.shape"
   ]
  },
  {
   "cell_type": "code",
   "execution_count": 37,
   "id": "4163077e",
   "metadata": {},
   "outputs": [
    {
     "data": {
      "text/plain": [
       "(394, 368, 6903)"
      ]
     },
     "execution_count": 37,
     "metadata": {},
     "output_type": "execute_result"
    }
   ],
   "source": [
    "# more than 1 label, 0 labels, total num labels, \n",
    "np.sum(y.sum(axis=1)>1),np.sum(y.sum(axis=1)==0),y.sum().sum()"
   ]
  },
  {
   "cell_type": "code",
   "execution_count": 36,
   "id": "37aaf8f0",
   "metadata": {},
   "outputs": [
    {
     "name": "stdout",
     "output_type": "stream",
     "text": [
      "\\begin{tabular}{lr}\n",
      "\\toprule\n",
      "{} &     0 \\\\\n",
      "\\midrule\n",
      "right bundle branch block    &  1857 \\\\\n",
      "ventricular ectopics         &   700 \\\\\n",
      "atrial fibrillation          &  1221 \\\\\n",
      "1st degree av block          &   722 \\\\\n",
      "premature atrial contraction &   616 \\\\\n",
      "sinus rhythm                 &   918 \\\\\n",
      "st depression                &   869 \\\\\n",
      "\\bottomrule\n",
      "\\end{tabular}\n",
      "\n"
     ]
    }
   ],
   "source": [
    "print(y.sum().to_latex())"
   ]
  },
  {
   "cell_type": "code",
   "execution_count": 13,
   "id": "95a4b4f9",
   "metadata": {},
   "outputs": [
    {
     "data": {
      "text/plain": [
       "((21837, 12, 5000), (21837, 11))"
      ]
     },
     "execution_count": 13,
     "metadata": {},
     "output_type": "execute_result"
    }
   ],
   "source": [
    "\n",
    "DATASET_NAME = \"WFDB_PTBXL_signitured\"\n",
    "X = np.load('./data/big_numpy_datasets/%s.npy'%DATASET_NAME, mmap_mode='c')\n",
    "label_df = pd.read_csv(\"data/%s.csv\"%DATASET_NAME).drop(columns=[\"headers\",\"leads\"])\n",
    "y = snomedConvert(label_df)\n",
    "# get diseases that exist in more than 5 percent of the samples\n",
    "y=y[y.columns[y.sum()>(0.05*y.shape[0])]]\n",
    "y.reset_index(drop=True)\n",
    "X.shape,y.shape"
   ]
  },
  {
   "cell_type": "code",
   "execution_count": 18,
   "id": "7d711ea3",
   "metadata": {},
   "outputs": [
    {
     "data": {
      "text/plain": [
       "(12093, 526, 44179)"
      ]
     },
     "execution_count": 18,
     "metadata": {},
     "output_type": "execute_result"
    }
   ],
   "source": [
    "# more than 1 label, 0 labels, total num labels, \n",
    "np.sum(y.sum(axis=1)>1),np.sum(y.sum(axis=1)==0),y.sum().sum()"
   ]
  },
  {
   "cell_type": "code",
   "execution_count": 15,
   "id": "fba57d24",
   "metadata": {},
   "outputs": [
    {
     "name": "stdout",
     "output_type": "stream",
     "text": [
      "\\begin{tabular}{lr}\n",
      "\\toprule\n",
      "{} &      0 \\\\\n",
      "\\midrule\n",
      "left axis deviation                  &   5146 \\\\\n",
      "myocardial ischemia                  &   2175 \\\\\n",
      "myocardial infarction                &   5261 \\\\\n",
      "left ventricular hypertrophy         &   2359 \\\\\n",
      "ventricular ectopics                 &   1154 \\\\\n",
      "atrial fibrillation                  &   1514 \\\\\n",
      "t wave abnormal                      &   2345 \\\\\n",
      "abnormal QRS                         &   3389 \\\\\n",
      "sinus rhythm                         &  18092 \\\\\n",
      "left anterior fascicular block       &   1626 \\\\\n",
      "incomplete right bundle branch block &   1118 \\\\\n",
      "\\bottomrule\n",
      "\\end{tabular}\n",
      "\n"
     ]
    }
   ],
   "source": [
    "print(y.sum().to_latex())"
   ]
  },
  {
   "cell_type": "code",
   "execution_count": 16,
   "id": "b7a4b0e9-f3da-4bd0-957b-179634569001",
   "metadata": {},
   "outputs": [
    {
     "data": {
      "text/html": [
       "<div>\n",
       "<style scoped>\n",
       "    .dataframe tbody tr th:only-of-type {\n",
       "        vertical-align: middle;\n",
       "    }\n",
       "\n",
       "    .dataframe tbody tr th {\n",
       "        vertical-align: top;\n",
       "    }\n",
       "\n",
       "    .dataframe thead th {\n",
       "        text-align: right;\n",
       "    }\n",
       "</style>\n",
       "<table border=\"1\" class=\"dataframe\">\n",
       "  <thead>\n",
       "    <tr style=\"text-align: right;\">\n",
       "      <th></th>\n",
       "      <th>left axis deviation</th>\n",
       "      <th>myocardial ischemia</th>\n",
       "      <th>myocardial infarction</th>\n",
       "      <th>left ventricular hypertrophy</th>\n",
       "      <th>ventricular ectopics</th>\n",
       "      <th>atrial fibrillation</th>\n",
       "      <th>t wave abnormal</th>\n",
       "      <th>abnormal QRS</th>\n",
       "      <th>sinus rhythm</th>\n",
       "      <th>left anterior fascicular block</th>\n",
       "      <th>incomplete right bundle branch block</th>\n",
       "    </tr>\n",
       "  </thead>\n",
       "  <tbody>\n",
       "    <tr>\n",
       "      <th>0</th>\n",
       "      <td>False</td>\n",
       "      <td>False</td>\n",
       "      <td>False</td>\n",
       "      <td>False</td>\n",
       "      <td>False</td>\n",
       "      <td>False</td>\n",
       "      <td>False</td>\n",
       "      <td>False</td>\n",
       "      <td>True</td>\n",
       "      <td>False</td>\n",
       "      <td>False</td>\n",
       "    </tr>\n",
       "    <tr>\n",
       "      <th>1</th>\n",
       "      <td>False</td>\n",
       "      <td>False</td>\n",
       "      <td>False</td>\n",
       "      <td>False</td>\n",
       "      <td>False</td>\n",
       "      <td>False</td>\n",
       "      <td>False</td>\n",
       "      <td>False</td>\n",
       "      <td>True</td>\n",
       "      <td>False</td>\n",
       "      <td>False</td>\n",
       "    </tr>\n",
       "    <tr>\n",
       "      <th>2</th>\n",
       "      <td>False</td>\n",
       "      <td>False</td>\n",
       "      <td>False</td>\n",
       "      <td>False</td>\n",
       "      <td>False</td>\n",
       "      <td>False</td>\n",
       "      <td>False</td>\n",
       "      <td>False</td>\n",
       "      <td>True</td>\n",
       "      <td>False</td>\n",
       "      <td>False</td>\n",
       "    </tr>\n",
       "    <tr>\n",
       "      <th>3</th>\n",
       "      <td>False</td>\n",
       "      <td>False</td>\n",
       "      <td>False</td>\n",
       "      <td>False</td>\n",
       "      <td>False</td>\n",
       "      <td>False</td>\n",
       "      <td>False</td>\n",
       "      <td>False</td>\n",
       "      <td>True</td>\n",
       "      <td>False</td>\n",
       "      <td>False</td>\n",
       "    </tr>\n",
       "    <tr>\n",
       "      <th>4</th>\n",
       "      <td>False</td>\n",
       "      <td>False</td>\n",
       "      <td>False</td>\n",
       "      <td>False</td>\n",
       "      <td>False</td>\n",
       "      <td>False</td>\n",
       "      <td>False</td>\n",
       "      <td>False</td>\n",
       "      <td>True</td>\n",
       "      <td>False</td>\n",
       "      <td>False</td>\n",
       "    </tr>\n",
       "    <tr>\n",
       "      <th>...</th>\n",
       "      <td>...</td>\n",
       "      <td>...</td>\n",
       "      <td>...</td>\n",
       "      <td>...</td>\n",
       "      <td>...</td>\n",
       "      <td>...</td>\n",
       "      <td>...</td>\n",
       "      <td>...</td>\n",
       "      <td>...</td>\n",
       "      <td>...</td>\n",
       "      <td>...</td>\n",
       "    </tr>\n",
       "    <tr>\n",
       "      <th>21832</th>\n",
       "      <td>True</td>\n",
       "      <td>False</td>\n",
       "      <td>False</td>\n",
       "      <td>True</td>\n",
       "      <td>True</td>\n",
       "      <td>False</td>\n",
       "      <td>True</td>\n",
       "      <td>False</td>\n",
       "      <td>False</td>\n",
       "      <td>False</td>\n",
       "      <td>False</td>\n",
       "    </tr>\n",
       "    <tr>\n",
       "      <th>21833</th>\n",
       "      <td>False</td>\n",
       "      <td>False</td>\n",
       "      <td>False</td>\n",
       "      <td>False</td>\n",
       "      <td>False</td>\n",
       "      <td>False</td>\n",
       "      <td>False</td>\n",
       "      <td>True</td>\n",
       "      <td>True</td>\n",
       "      <td>False</td>\n",
       "      <td>False</td>\n",
       "    </tr>\n",
       "    <tr>\n",
       "      <th>21834</th>\n",
       "      <td>False</td>\n",
       "      <td>True</td>\n",
       "      <td>False</td>\n",
       "      <td>False</td>\n",
       "      <td>False</td>\n",
       "      <td>False</td>\n",
       "      <td>False</td>\n",
       "      <td>False</td>\n",
       "      <td>True</td>\n",
       "      <td>False</td>\n",
       "      <td>False</td>\n",
       "    </tr>\n",
       "    <tr>\n",
       "      <th>21835</th>\n",
       "      <td>True</td>\n",
       "      <td>False</td>\n",
       "      <td>False</td>\n",
       "      <td>False</td>\n",
       "      <td>False</td>\n",
       "      <td>False</td>\n",
       "      <td>False</td>\n",
       "      <td>False</td>\n",
       "      <td>True</td>\n",
       "      <td>False</td>\n",
       "      <td>False</td>\n",
       "    </tr>\n",
       "    <tr>\n",
       "      <th>21836</th>\n",
       "      <td>False</td>\n",
       "      <td>False</td>\n",
       "      <td>False</td>\n",
       "      <td>False</td>\n",
       "      <td>False</td>\n",
       "      <td>False</td>\n",
       "      <td>False</td>\n",
       "      <td>False</td>\n",
       "      <td>True</td>\n",
       "      <td>False</td>\n",
       "      <td>False</td>\n",
       "    </tr>\n",
       "  </tbody>\n",
       "</table>\n",
       "<p>21837 rows × 11 columns</p>\n",
       "</div>"
      ],
      "text/plain": [
       "       left axis deviation  myocardial ischemia  myocardial infarction  \\\n",
       "0                    False                False                  False   \n",
       "1                    False                False                  False   \n",
       "2                    False                False                  False   \n",
       "3                    False                False                  False   \n",
       "4                    False                False                  False   \n",
       "...                    ...                  ...                    ...   \n",
       "21832                 True                False                  False   \n",
       "21833                False                False                  False   \n",
       "21834                False                 True                  False   \n",
       "21835                 True                False                  False   \n",
       "21836                False                False                  False   \n",
       "\n",
       "       left ventricular hypertrophy  ventricular ectopics  \\\n",
       "0                             False                 False   \n",
       "1                             False                 False   \n",
       "2                             False                 False   \n",
       "3                             False                 False   \n",
       "4                             False                 False   \n",
       "...                             ...                   ...   \n",
       "21832                          True                  True   \n",
       "21833                         False                 False   \n",
       "21834                         False                 False   \n",
       "21835                         False                 False   \n",
       "21836                         False                 False   \n",
       "\n",
       "       atrial fibrillation  t wave abnormal  abnormal QRS  sinus rhythm  \\\n",
       "0                    False            False         False          True   \n",
       "1                    False            False         False          True   \n",
       "2                    False            False         False          True   \n",
       "3                    False            False         False          True   \n",
       "4                    False            False         False          True   \n",
       "...                    ...              ...           ...           ...   \n",
       "21832                False             True         False         False   \n",
       "21833                False            False          True          True   \n",
       "21834                False            False         False          True   \n",
       "21835                False            False         False          True   \n",
       "21836                False            False         False          True   \n",
       "\n",
       "       left anterior fascicular block  incomplete right bundle branch block  \n",
       "0                               False                                 False  \n",
       "1                               False                                 False  \n",
       "2                               False                                 False  \n",
       "3                               False                                 False  \n",
       "4                               False                                 False  \n",
       "...                               ...                                   ...  \n",
       "21832                           False                                 False  \n",
       "21833                           False                                 False  \n",
       "21834                           False                                 False  \n",
       "21835                           False                                 False  \n",
       "21836                           False                                 False  \n",
       "\n",
       "[21837 rows x 11 columns]"
      ]
     },
     "execution_count": 16,
     "metadata": {},
     "output_type": "execute_result"
    }
   ],
   "source": [
    "y"
   ]
  },
  {
   "cell_type": "markdown",
   "id": "bd4151b8",
   "metadata": {},
   "source": [
    "Table of past-work (Hong et al.)"
   ]
  },
  {
   "cell_type": "code",
   "execution_count": 91,
   "id": "d5e03d42",
   "metadata": {},
   "outputs": [
    {
     "name": "stdout",
     "output_type": "stream",
     "text": [
      "\\begin{tabular}{lll}\n",
      "\\toprule\n",
      "{} &                                                                 Data preprocessing &                                                                          Data augmentation \\\\\n",
      "Rank &                                                                                    &                                                                                            \\\\\n",
      "\\midrule\n",
      "1    &  Sampling rate 500Hz; Bandwidth 3 - 45 Hz; Value -1 - 1; Window size 15s 0-padding &                                                                                         No \\\\\n",
      "2    &                Sampling rate 257 Hz; Value -1 - 1; Window size 4096(16s) 0-padding &                                                                                         No \\\\\n",
      "3    &   Sampling rate 500Hz; Window size 30s 0-padding; Exclude 4 leads; Wavelet denoise &                                                                  With external data: Hefei \\\\\n",
      "4    &                     Sampling rate 500Hz; Value -1 - 1; Window size 10240(20.48 s)  &                                                                        Add noise and drift \\\\\n",
      "5    &                                              Sampling rate 250Hz; Value normalized &  Add or filter frequency components; Substitute, shuffle, invert, filt and scale lead data \\\\\n",
      "\\bottomrule\n",
      "\\end{tabular}\n",
      "\n"
     ]
    }
   ],
   "source": [
    "df = pd.read_csv(\"csvs/physionet-2020-survey Hongetal.csv\")[0:5]\n",
    "top_df = df[[\"Rank\",\"Data preprocessing\",\"Data augmentation\"]]\n",
    "print(top_df.set_index(\"Rank\").to_latex())"
   ]
  }
 ],
 "metadata": {
  "kernelspec": {
   "display_name": "Python 3 (ipykernel)",
   "language": "python",
   "name": "python3"
  },
  "language_info": {
   "codemirror_mode": {
    "name": "ipython",
    "version": 3
   },
   "file_extension": ".py",
   "mimetype": "text/x-python",
   "name": "python",
   "nbconvert_exporter": "python",
   "pygments_lexer": "ipython3",
   "version": "3.10.4"
  }
 },
 "nbformat": 4,
 "nbformat_minor": 5
}
