{
 "cells": [
  {
   "cell_type": "code",
   "execution_count": 18,
   "id": "bd3ebb8a-ee83-412f-b529-73df085fbc1b",
   "metadata": {},
   "outputs": [],
   "source": [
    "from helper_code import *\n",
    "import numpy as np, os, sys, joblib\n",
    "import pandas as pd\n",
    "from glob import glob\n",
    "import os\n",
    "from torch.utils.data import Dataset, DataLoader\n",
    "from sklearn.model_selection import train_test_split\n",
    "from tsai.all import *\n",
    "import torch\n",
    "import optuna\n",
    "from optuna.integration import FastAIPruningCallback\n",
    "from sklearn.metrics import classification_report\n",
    "import transformation_funcs as tfs\n",
    "import seaborn as sns\n",
    "\n",
    "torch.cuda.set_device(1) \n",
    "def snomedConvert(label_df,snomed=True):\n",
    "    codes =  pd.read_csv(\"data/snomed_codes.csv\",sep=\",\")[[\"Dx\",\"SNOMEDCTCode\"]]\n",
    "    if snomed:\n",
    "        label_df.columns = [codes[codes[\"SNOMEDCTCode\"] == int(x)][\"Dx\"].item() for x in label_df.columns]\n",
    "        return label_df"
   ]
  },
  {
   "cell_type": "code",
   "execution_count": 19,
   "id": "07b19487-5ccc-4360-b47b-c2c76d6c0d2f",
   "metadata": {},
   "outputs": [],
   "source": [
    "X = np.load('./data/big_numpy_datasets/WFDB_CPSC2018.npy', mmap_mode='c')\n",
    "label_df = pd.read_csv(\"data/WFDB_CPSC2018.csv\").drop(columns=[\"headers\",\"leads\"])\n",
    "\n",
    "y = snomedConvert(label_df)\n"
   ]
  },
  {
   "cell_type": "code",
   "execution_count": 20,
   "id": "3a161465-6718-498f-84bb-af48b405e778",
   "metadata": {},
   "outputs": [
    {
     "data": {
      "image/png": "[encoded data removed]",
      "text/plain": [
       "<Figure size 1600x50 with 1 Axes>"
      ]
     },
     "metadata": {},
     "output_type": "display_data"
    },
    {
     "data": {
      "text/plain": [
       "((#5503) [3730,369,1166,1104,1256,1925,1397,6851,5431,5658...],\n",
       " (#687) [3536,5567,3053,1591,268,2755,6308,2063,3139,3885...],\n",
       " (#687) [4921,3129,4389,2920,319,6726,55,1263,3608,2788...])"
      ]
     },
     "execution_count": 20,
     "metadata": {},
     "output_type": "execute_result"
    }
   ],
   "source": [
    "splits = get_splits(y.to_numpy(), valid_size=.1,test_size=0.1, stratify=True, random_state=23, shuffle=True)\n",
    "splits"
   ]
  },
  {
   "cell_type": "code",
   "execution_count": 21,
   "id": "a0186bb7-884f-4bf9-bd92-8397d12a908c",
   "metadata": {},
   "outputs": [
    {
     "name": "stdout",
     "output_type": "stream",
     "text": [
      "Counts by label: {'right bundle branch block': 1857, 'sinus rhythm': 918, 'atrial fibrillation': 1221, 'ventricular ectopics': 700, 'st depression': 869, 'left bundle branch block': 236, 'st elevation': 220, '1st degree av block': 722, 'premature atrial contraction': 616}\n"
     ]
    }
   ],
   "source": [
    "df = pd.read_csv(\"data/WFDB_CPSC2018.csv\").drop(columns=[\"headers\",\"leads\"])\n",
    "y = snomedConvert(df)\n",
    "y_multi = []\n",
    "for i,row in y.iterrows():\n",
    "    sample_labels = []\n",
    "    for i,r in enumerate(row):\n",
    "        if r == True:\n",
    "            sample_labels.append(y.columns[i])\n",
    "        \n",
    "    y_multi.append(list(tuple(sample_labels)))\n",
    "label_counts = collections.Counter([a for r in y_multi for a in r])\n",
    "print('Counts by label:', dict(label_counts))"
   ]
  },
  {
   "cell_type": "code",
   "execution_count": null,
   "id": "998c1f58-70a1-4c4d-b00a-021eb1733c66",
   "metadata": {},
   "outputs": [],
   "source": [
    "sf = 0.5\n",
    "tfms = [None,TSMultiLabelClassification()]\n",
    "batch_tfms = [\n",
    "#              TSStandardize(by_sample=True),\n",
    "              tfs.Normalize(),\n",
    "              tfs.Scale(scale_factor=0.5),\n",
    "              tfs.BandPass(int(sf*500),3,45),\n",
    "#               tfs.RandomShift(0.1),\n",
    "#               tfs.MulNoise(6),\n",
    "#               tfs.CutOutWhenTraining(),\n",
    "             ]\n",
    "dsets = TSDatasets(X.astype(float), y_multi, tfms=tfms, splits=splits)\n",
    "dls   = TSDataLoaders.from_dsets(dsets.train,dsets.valid, bs=[64, 128], batch_tfms=batch_tfms, num_workers=0) \n",
    "# reorganize y dataframe using dl's label/vocab mapping and count pos_weights\n",
    "y = y[dls.vocab.o2i.keys()]\n",
    "pos_weight = torch.tensor((len(y)-y.sum())/(y.sum()+1e-5))\n",
    "metrics =[ precision_multi, recall_multi, specificity_multi, F1_multi] \n",
    "model = InceptionTimePlus(dls.vars, dls.c, dls.len, depth=10,)\n",
    "learn = Learner(dls, model, metrics=metrics, loss_func=nn.BCEWithLogitsLoss(),cbs=ShowGraph())\n",
    "learn.fit_one_cycle(200, lr_max=0.004178080960048705)\n",
    "learn.recorder.plot_metrics()"
   ]
  },
  {
   "cell_type": "code",
   "execution_count": 1,
   "id": "caf3de9c-11a2-40a1-bbd4-90b516f8b1ef",
   "metadata": {},
   "outputs": [
    {
     "name": "stderr",
     "output_type": "stream",
     "text": [
      "/home/asalimi/.local/lib/python3.8/site-packages/tqdm/auto.py:21: TqdmWarning: IProgress not found. Please update jupyter and ipywidgets. See https://ipywidgets.readthedocs.io/en/stable/user_install.html\n",
      "  from .autonotebook import tqdm as notebook_tqdm\n"
     ]
    }
   ],
   "source": [
    "from helper_code import *\n",
    "import numpy as np, os, sys, joblib\n",
    "import pandas as pd\n",
    "from glob import glob\n",
    "import os\n",
    "from torch.utils.data import Dataset, DataLoader\n",
    "from sklearn.model_selection import train_test_split\n",
    "from tsai.all import *\n",
    "import torch\n",
    "import optuna\n",
    "from optuna.integration import FastAIPruningCallback\n",
    "from sklearn.metrics import classification_report\n",
    "import transformation_funcs as tfs\n",
    "import seaborn as sns\n",
    "import argparse\n",
    "import glob\n",
    "import itertools \n",
    "\n",
    "parser = argparse.ArgumentParser(description='experiment parameters')\n",
    "# parser.add_argument('--batch_tfms',nargs=\"+\",default=[\"sc\",\"n\", \"bp\"],help=\"input list of ints ->n:normalize sc:scale bp:bandpass sh:shift\")\n",
    "# parser.add_argument('--norm_type',default=\"minmax\",help=\"normalization function (minmax, maxdiv,zscore,median,deci_scale)\")\n",
    "parser.add_argument('--max_len',default=8000,type=int,help=\"max_len of ecgs\")\n",
    "# parser.add_argument('--HP',default=1,type=int,help=\"high pass filter\")\n",
    "# parser.add_argument('--LP',default=50,type=int,help=\"low pass filter\")\n",
    "# parser.add_argument('--scale',type=float,default=0.5,help=\"down/upsample scale\")\n",
    "# parser.add_argument('--scale_type',default=\"nearest-exact\",help=\"nearest / nearest-exact / area\")\n",
    "parser.add_argument('--gpu_num',default=1,type=int,help=\"gpu device\")\n",
    "parser.add_argument('--cv_num',default=0,type=int,help=\"cv num\")\n",
    "parser.add_argument('--arch',default=\"inception\",help=\"inception or minirocket\")\n",
    "parser.add_argument('--dataset',default=\"CPSC2018\",help=\"CPSC2018 or chapmanshaoxing or PTBXL\")\n",
    "# parser.add_argument('--cv_range',default=[0,1,2,3,4],nargs=\"+\",type=int,help=\"folds to train\")\n",
    "\n",
    "args = parser.parse_args(args=[])\n",
    "\n",
    "# print(\"pre-processing funcs: \",args.batch_tfms)\n",
    "# print(\"gpu num :\",args.gpu_num)\n",
    "# print(\"scaling :\",args.scale)\n",
    "# print(\"training folds:\",args.cv_range)\n",
    "# print(\"max len:\",args.max_len)\n",
    "# print(\"dataset\",args.dataset)\n",
    "\n",
    "torch.cuda.set_device(args.gpu_num)\n",
    "# norm_type = args.norm_type\n",
    "max_len = 4000\n",
    "# sf = args.scale\n",
    "# LP = args.LP\n",
    "# HP = args.HP\n",
    "# scale_type = args.scale_type\n",
    "# cv_range = args.cv_range\n",
    "cv_num = args.cv_num\n",
    "architecture = args.arch\n",
    "DATASET_ID = args.dataset\n",
    "# transforms = args.batch_tfms\n",
    "# batch_tfms = []\n",
    "\n"
   ]
  },
  {
   "cell_type": "code",
   "execution_count": 2,
   "id": "ddd033ce-b295-4292-aa13-668557504246",
   "metadata": {},
   "outputs": [],
   "source": [
    "# define the possible combinations\n",
    "csv_path = \"models/bandpassing/csvs/\"\n",
    "num_trials = 20\n",
    "sc_values = [0.1, 0.25,0.5,0.75]\n",
    "bp_values = [(1,30),(1,50),(1,100)]\n",
    "norm_values = [\"min_max\"]\n",
    "# experiment_name = \"%s_%s_%s_%s_%s_%s_%s\"%(architecture,DATASET_ID,\"-\".join(processing_type),sf,HP,LP,norm_type)\n",
    "\n",
    "# glob.glob(csv_path+\"/\"+experiment_name+\"*\")\n",
    "# experiment_name\n",
    "# possible sequence combinations\n",
    "funcs = [\"bp\",\"sc\",\"n\"]\n",
    "func_sequences = []\n",
    "for i,f in enumerate(funcs):\n",
    "    cfuncs = funcs.copy()\n",
    "    cfuncs.pop(i)\n",
    "    func_sequences.extend(list(zip([f]*len(cfuncs),cfuncs)))\n",
    "# processing_type = '-'.join([x for x in transforms])\n",
    "# processing_type = func_sequences[0]\n",
    "# print(processing_type)"
   ]
  },
  {
   "cell_type": "code",
   "execution_count": 14,
   "id": "f7d21bd1-996e-451e-baa3-4820c16c228e",
   "metadata": {},
   "outputs": [
    {
     "name": "stdout",
     "output_type": "stream",
     "text": [
      "inception_CPSC2018_bp-sc_0.1_1_30_None\n",
      "inception_CPSC2018_bp-sc_0.25_1_30_None\n",
      "inception_CPSC2018_bp-sc_0.5_1_30_None\n",
      "inception_CPSC2018_bp-sc_0.75_1_30_None\n",
      "inception_CPSC2018_bp-sc_0.1_1_50_None\n",
      "inception_CPSC2018_bp-sc_0.25_1_50_None\n",
      "inception_CPSC2018_bp-sc_0.5_1_50_None\n",
      "inception_CPSC2018_bp-sc_0.75_1_50_None\n",
      "inception_CPSC2018_bp-sc_0.1_1_100_None\n",
      "inception_CPSC2018_bp-sc_0.25_1_100_None\n",
      "inception_CPSC2018_bp-sc_0.5_1_100_None\n",
      "inception_CPSC2018_bp-sc_0.75_1_100_None\n",
      "inception_CPSC2018_bp-n_None_1_30_minmax\n",
      "inception_CPSC2018_bp-n_None_1_50_minmax\n",
      "inception_CPSC2018_bp-n_None_1_100_minmax\n",
      "inception_CPSC2018_sc-bp_0.1_1_30_None\n",
      "inception_CPSC2018_sc-bp_0.25_1_30_None\n",
      "inception_CPSC2018_sc-bp_0.5_1_30_None\n",
      "inception_CPSC2018_sc-bp_0.75_1_30_None\n",
      "inception_CPSC2018_sc-bp_0.1_1_50_None\n",
      "inception_CPSC2018_sc-bp_0.25_1_50_None\n",
      "inception_CPSC2018_sc-bp_0.5_1_50_None\n",
      "inception_CPSC2018_sc-bp_0.75_1_50_None\n",
      "inception_CPSC2018_sc-bp_0.1_1_100_None\n",
      "inception_CPSC2018_sc-bp_0.25_1_100_None\n",
      "inception_CPSC2018_sc-bp_0.5_1_100_None\n",
      "inception_CPSC2018_sc-bp_0.75_1_100_None\n",
      "inception_CPSC2018_sc-n_0.1_None_None_minmax\n",
      "inception_CPSC2018_sc-n_0.25_None_None_minmax\n",
      "inception_CPSC2018_sc-n_0.5_None_None_minmax\n",
      "inception_CPSC2018_sc-n_0.75_None_None_minmax\n",
      "inception_CPSC2018_n-bp_None_1_30_minmax\n",
      "inception_CPSC2018_n-bp_None_1_50_minmax\n",
      "inception_CPSC2018_n-bp_None_1_100_minmax\n",
      "inception_CPSC2018_n-sc_0.1_None_None_minmax\n",
      "inception_CPSC2018_n-sc_0.25_None_None_minmax\n",
      "inception_CPSC2018_n-sc_0.5_None_None_minmax\n",
      "inception_CPSC2018_n-sc_0.75_None_None_minmax\n"
     ]
    }
   ],
   "source": [
    "# all possible csv names\n",
    "experiment_names = []\n",
    "for processing_type in func_sequences:\n",
    "    bp = \"bp\" in processing_type\n",
    "    n = \"n\" in processing_type\n",
    "    sc = \"sc\" in processing_type\n",
    "    \n",
    "    if bp and sc:\n",
    "        for pair in itertools.product(bp_values, sc_values):\n",
    "            HP,LP = pair[0][0],pair[0][1]\n",
    "            sf = pair[1]\n",
    "            experiment_names.append(\"%s_%s_%s_%s_%s_%s_%s\"%\n",
    "                        (architecture,DATASET_ID,\"-\".join(processing_type),sf,HP,LP,\"None\"))\n",
    "    if bp and n:\n",
    "        for pair in itertools.product(bp_values, norm_values):\n",
    "            HP,LP = pair[0][0],pair[0][1]\n",
    "            norm_type = pair[1]\n",
    "            experiment_names.append(\"%s_%s_%s_%s_%s_%s_%s\"%(architecture,DATASET_ID,\"-\".join(processing_type),None,HP,LP,\"minmax\"))\n",
    "    if sc and n:\n",
    "        for pair in itertools.product(sc_values, norm_values):\n",
    "            sf = pair[0]\n",
    "            norm_type = pair[1]\n",
    "            experiment_names.append(\"%s_%s_%s_%s_%s_%s_%s\"%(architecture,DATASET_ID,\"-\".join(processing_type),sf,None,None,\"minmax\"))\n",
    "         \n",
    "for p in experiment_names:\n",
    "    print(p)"
   ]
  },
  {
   "cell_type": "code",
   "execution_count": 4,
   "id": "8710ae03-1304-458a-9a49-6195b9a7eb8a",
   "metadata": {},
   "outputs": [
    {
     "data": {
      "image/png": "[encoded data removed]",
      "text/plain": [
       "<Figure size 1600x1000 with 1 Axes>"
      ]
     },
     "metadata": {},
     "output_type": "display_data"
    },
    {
     "name": "stdout",
     "output_type": "stream",
     "text": [
      "Counts by label: {'right bundle branch block': 1857, 'sinus rhythm': 918, 'atrial fibrillation': 1221, 'ventricular ectopics': 700, 'st depression': 869, '1st degree av block': 722, 'premature atrial contraction': 616}\n"
     ]
    }
   ],
   "source": [
    "DATASET_NAME = \"WFDB_%s_signitured\"%DATASET_ID\n",
    "X = np.load('./data/big_numpy_datasets/%s.npy'%DATASET_NAME, mmap_mode='c')\n",
    "label_df = pd.read_csv(\"data/%s.csv\"%DATASET_NAME).drop(columns=[\"headers\",\"leads\"])\n",
    "y = snomedConvert(label_df)\n",
    "y = y[y.columns[y.sum()>0.05*len(y)] ]\n",
    "\n",
    "cv_splits = get_splits(y.to_numpy(), n_splits = 20, valid_size=.1,test_size=0.1, stratify=False, random_state=23, shuffle=True)\n",
    "y_multi = []\n",
    "for i,row in y.iterrows():\n",
    "    sample_labels = []\n",
    "    for i,r in enumerate(row):\n",
    "        if r == True:\n",
    "            sample_labels.append(y.columns[i])\n",
    "        \n",
    "    y_multi.append(list(tuple(sample_labels)))\n",
    "label_counts = collections.Counter([a for r in y_multi for a in r])\n",
    "print('Counts by label:', dict(label_counts))\n",
    "tfms  = [None, TSMultiLabelClassification()]"
   ]
  },
  {
   "cell_type": "code",
   "execution_count": 22,
   "id": "d165d7bc-3f02-4893-a88a-112723fa78a6",
   "metadata": {},
   "outputs": [],
   "source": [
    "def float_if_valid(var):\n",
    "    if var != \"None\":\n",
    "        return np.float(var)\n",
    "    else:\n",
    "        return var"
   ]
  },
  {
   "cell_type": "code",
   "execution_count": 38,
   "id": "245bf62d-5824-4948-a928-e86e07a38ea7",
   "metadata": {},
   "outputs": [
    {
     "name": "stdout",
     "output_type": "stream",
     "text": [
      "inception_CPSC2018_bp-n_None_1_100_minmax_1.csv\n",
      "inception_CPSC2018_bp-n_None_1_30_minmax_1.csv\n",
      "inception_CPSC2018_bp-n_None_1_50_minmax_1.csv\n",
      "inception_CPSC2018_bp-sc_0.1_1_100_None_0.csv\n",
      "inception_CPSC2018_bp-sc_0.1_1_100_None_1.csv\n",
      "inception_CPSC2018_bp-sc_0.1_1_30_None_0.csv\n",
      "inception_CPSC2018_bp-sc_0.1_1_30_None_1.csv\n",
      "inception_CPSC2018_bp-sc_0.1_1_30_None_2.csv\n",
      "inception_CPSC2018_bp-sc_0.1_1_50_None_0.csv\n",
      "inception_CPSC2018_bp-sc_0.1_1_50_None_1.csv\n",
      "inception_CPSC2018_bp-sc_0.25_1_100_None_0.csv\n",
      "inception_CPSC2018_bp-sc_0.25_1_100_None_1.csv\n",
      "inception_CPSC2018_bp-sc_0.25_1_30_None_0.csv\n",
      "inception_CPSC2018_bp-sc_0.25_1_30_None_1.csv\n",
      "inception_CPSC2018_bp-sc_0.25_1_30_None_2.csv\n",
      "inception_CPSC2018_bp-sc_0.25_1_50_None_0.csv\n",
      "inception_CPSC2018_bp-sc_0.25_1_50_None_1.csv\n",
      "inception_CPSC2018_bp-sc_0.5_1_100_None_0.csv\n",
      "inception_CPSC2018_bp-sc_0.5_1_100_None_1.csv\n",
      "inception_CPSC2018_bp-sc_0.5_1_30_None_0.csv\n",
      "inception_CPSC2018_bp-sc_0.5_1_30_None_1.csv\n",
      "inception_CPSC2018_bp-sc_0.5_1_50_None_0.csv\n",
      "inception_CPSC2018_bp-sc_0.5_1_50_None_1.csv\n",
      "inception_CPSC2018_bp-sc_0.75_1_100_None_0.csv\n",
      "inception_CPSC2018_bp-sc_0.75_1_100_None_1.csv\n",
      "inception_CPSC2018_bp-sc_0.75_1_30_None_0.csv\n",
      "inception_CPSC2018_bp-sc_0.75_1_30_None_1.csv\n",
      "inception_CPSC2018_bp-sc_0.75_1_50_None_0.csv\n",
      "inception_CPSC2018_bp-sc_0.75_1_50_None_1.csv\n",
      "inception_CPSC2018_sc-bp_0.1_1_100_None_1.csv\n",
      "inception_CPSC2018_sc-bp_0.1_1_30_None_1.csv\n",
      "inception_CPSC2018_sc-bp_0.1_1_50_None_1.csv\n",
      "inception_CPSC2018_sc-bp_0.25_1_100_None_1.csv\n",
      "inception_CPSC2018_sc-bp_0.25_1_30_None_1.csv\n",
      "inception_CPSC2018_sc-bp_0.25_1_50_None_1.csv\n",
      "inception_CPSC2018_sc-bp_0.5_1_100_None_1.csv\n",
      "inception_CPSC2018_sc-bp_0.5_1_30_None_1.csv\n",
      "inception_CPSC2018_sc-bp_0.5_1_50_None_1.csv\n",
      "inception_CPSC2018_sc-bp_0.75_1_100_None_1.csv\n",
      "inception_CPSC2018_sc-bp_0.75_1_30_None_1.csv\n",
      "inception_CPSC2018_sc-bp_0.75_1_50_None_1.csv\n"
     ]
    }
   ],
   "source": [
    "!ls models/sequences/csvs/"
   ]
  },
  {
   "cell_type": "code",
   "execution_count": null,
   "id": "d9a3f87c-0d04-4bad-ab5c-544bcceda626",
   "metadata": {},
   "outputs": [],
   "source": [
    "for experiment_name in experiment_names:\n",
    "    ''' getting the function vars out of the experiment file name'''\n",
    "    print(experiment_name)\n",
    "    vars = experiment_name.split(\"_\")\n",
    "    processing_type = vars[2].split(\"-\")\n",
    "    sf = float_if_valid(vars[3])\n",
    "    HP,LP = np.float(vars[4]),np.float(vars[5])\n",
    "    norm_type = vars[6]\n",
    "    print(\"processing type: %s \\n hp-lp:%s,%s \\n scale factor:%s \\n norm_type:%s\"%\n",
    "          (processing_type,HP,LP,sf,norm_type))\n",
    "    batch_tfms = []\n",
    "    for t in processing_type:\n",
    "        if t == \"sc\":\n",
    "            batch_tfms.append(tfs.Scale(scale_factor=sf,mode=\"nearest-exact\"))\n",
    "        if t == \"n\":\n",
    "            batch_tfms.append(tfs.NormMinMax())\n",
    "        if t == \"bp\":\n",
    "            if sc == \"None\": # if there's no scaling, then we scale by 0.5 for faster processing\n",
    "                batch_tfms.append(tfs.Scale(scale_factor=0.5,mode=\"nearest-exact\"))\n",
    "                batch_tfms.append(tfs.BandPass(int(0.5*500),low_cut=LP, high_cut=HP,leads=12,))\n",
    "            else:\n",
    "                 batch_tfms.append(tfs.BandPass(int(0.5*500),low_cut=LP, high_cut=HP,leads=12,))\n",
    "    print(\"transforms:\\n\",[x.name for x in batch_tfms])\n",
    "    \n",
    "    csv_path = \"models/sequences/csvs/%s_%s.csv\"%(experiment_name,cv_num)  \n",
    "    \n",
    "    \n",
    "    dsets = TSDatasets(X.astype(float)[:,:,0:max_len], y_multi, tfms=tfms, splits=cv_splits[cv_num]) # inplace=True by default\n",
    "    dls   = TSDataLoaders.from_dsets(dsets.train,dsets.valid, bs=[64, 128], batch_tfms=batch_tfms, num_workers=0)\n",
    "    metrics =[precision_multi, recall_multi, specificity_multi, F1_multi]\n",
    "    if architecture == \"inception\":\n",
    "        model = InceptionTimePlus(dls.vars, dls.c, dls.len,)\n",
    "    elif architecture == \"minirocket\":\n",
    "        model = MiniRocketPlus(dls.vars, dls.c,dls.len)\n",
    "    elif architecture == \"xresnet1d101\":\n",
    "        model = xresnet1d101(dls.vars, dls.c)\n",
    "    # try : loss_func = BCEWithLogitsLossFlat(pos_weight=dls.train.cws.sqrt())\n",
    "    \n",
    "    learn = Learner(dls, model, metrics=metrics,\n",
    "    #                     opt_func = wrap_optimizer(torch.optim.Adam,weight_decay=6.614e-07),\n",
    "                    cbs=[fastai.callback.all.SaveModelCallback(\n",
    "                        monitor=\"F1_multi\",fname=\"%s_%s\"%(experiment_name ,cv_num)),\n",
    "                        fastai.callback.all.EarlyStoppingCallback(monitor='F1_multi', min_delta=0.005, patience=50)\n",
    "                        ],\n",
    "                    model_dir=\"models/sequences/\")\n",
    "    \n",
    "    learn.fit_one_cycle(2, lr_max=0.01,)\n",
    "    # now test it on test set\n",
    "    learn.load(\"%s_%s\"%(experiment_name ,cv_num))\n",
    "    fold_splits = cv_splits[cv_num]\n",
    "    dsets = TSDatasets(X.astype(float)[:,:,0:max_len], y_multi, tfms=tfms, splits=(fold_splits[0],fold_splits[2])) # inplace=True by default\n",
    "    dls   = TSDataLoaders.from_dsets(dsets.train,dsets.valid, bs=[128, 128], batch_tfms=batch_tfms, num_workers=0)\n",
    "    \n",
    "    valid_probas, valid_targets, valid_preds = learn.get_preds(dl=dls.valid, with_decoded=True)\n",
    "    y_pred = (valid_preds>0)\n",
    "    y_test = valid_targets\n",
    "    report = classification_report(y_test, y_pred,target_names = dls.vocab.o2i.keys(),digits=3,output_dict=True)\n",
    "    df = pd.DataFrame(report).reset_index()\n",
    "    df.to_csv(csv_path,index=False)\n",
    "    \n",
    "    del model,learn\n",
    "    gc.collect()\n",
    "    torch.cuda.empty_cache()\n",
    "    # break ### remove break \n",
    "\n",
    "# processing_type"
   ]
  }
 ],
 "metadata": {
  "kernelspec": {
   "display_name": "Python 3 (ipykernel)",
   "language": "python",
   "name": "python3"
  },
  "language_info": {
   "codemirror_mode": {
    "name": "ipython",
    "version": 3
   },
   "file_extension": ".py",
   "mimetype": "text/x-python",
   "name": "python",
   "nbconvert_exporter": "python",
   "pygments_lexer": "ipython3",
   "version": "3.8.10"
  }
 },
 "nbformat": 4,
 "nbformat_minor": 5
}
