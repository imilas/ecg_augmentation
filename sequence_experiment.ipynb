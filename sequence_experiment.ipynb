{
 "cells": [
  {
   "cell_type": "code",
   "execution_count": 4,
   "id": "bd3ebb8a-ee83-412f-b529-73df085fbc1b",
   "metadata": {},
   "outputs": [],
   "source": [
    "from helper_code import *\n",
    "import numpy as np, os, sys, joblib\n",
    "import pandas as pd\n",
    "from glob import glob\n",
    "import os\n",
    "from torch.utils.data import Dataset, DataLoader\n",
    "from sklearn.model_selection import train_test_split\n",
    "from tsai.all import *\n",
    "import torch\n",
    "import optuna\n",
    "from optuna.integration import FastAIPruningCallback\n",
    "from sklearn.metrics import classification_report\n",
    "import transformation_funcs as tfs\n",
    "import seaborn as sns\n",
    "\n",
    "torch.cuda.set_device(0) \n",
    "def snomedConvert(label_df,snomed=True):\n",
    "    codes =  pd.read_csv(\"data/snomed_codes.csv\",sep=\",\")[[\"Dx\",\"SNOMEDCTCode\"]]\n",
    "    if snomed:\n",
    "        label_df.columns = [codes[codes[\"SNOMEDCTCode\"] == int(x)][\"Dx\"].item() for x in label_df.columns]\n",
    "        return label_df"
   ]
  },
  {
   "cell_type": "code",
   "execution_count": 5,
   "id": "07b19487-5ccc-4360-b47b-c2c76d6c0d2f",
   "metadata": {},
   "outputs": [],
   "source": [
    "X = np.load('./data/big_numpy_datasets/WFDB_CPSC2018.npy', mmap_mode='c')\n",
    "label_df = pd.read_csv(\"data/WFDB_CPSC2018.csv\").drop(columns=[\"headers\",\"leads\"])\n",
    "\n",
    "y = snomedConvert(label_df)\n"
   ]
  },
  {
   "cell_type": "code",
   "execution_count": 6,
   "id": "3a161465-6718-498f-84bb-af48b405e778",
   "metadata": {},
   "outputs": [
    {
     "data": {
      "image/png": "[encoded data removed]",
      "text/plain": [
       "<Figure size 1600x50 with 1 Axes>"
      ]
     },
     "metadata": {},
     "output_type": "display_data"
    },
    {
     "data": {
      "text/plain": [
       "((#5503) [3730,369,1166,1104,1256,1925,1397,6851,5431,5658...],\n",
       " (#687) [3536,5567,3053,1591,268,2755,6308,2063,3139,3885...],\n",
       " (#687) [4921,3129,4389,2920,319,6726,55,1263,3608,2788...])"
      ]
     },
     "execution_count": 6,
     "metadata": {},
     "output_type": "execute_result"
    }
   ],
   "source": [
    "splits = get_splits(y.to_numpy(), valid_size=.1,test_size=0.1, stratify=True, random_state=23, shuffle=True)\n",
    "splits"
   ]
  },
  {
   "cell_type": "code",
   "execution_count": 7,
   "id": "a0186bb7-884f-4bf9-bd92-8397d12a908c",
   "metadata": {},
   "outputs": [
    {
     "name": "stdout",
     "output_type": "stream",
     "text": [
      "Counts by label: {'right bundle branch block': 1857, 'sinus rhythm': 918, 'atrial fibrillation': 1221, 'ventricular ectopics': 700, 'st depression': 869, 'left bundle branch block': 236, 'st elevation': 220, '1st degree av block': 722, 'premature atrial contraction': 616}\n"
     ]
    }
   ],
   "source": [
    "df = pd.read_csv(\"data/WFDB_CPSC2018.csv\").drop(columns=[\"headers\",\"leads\"])\n",
    "y = snomedConvert(df)\n",
    "y_multi = []\n",
    "for i,row in y.iterrows():\n",
    "    sample_labels = []\n",
    "    for i,r in enumerate(row):\n",
    "        if r == True:\n",
    "            sample_labels.append(y.columns[i])\n",
    "        \n",
    "    y_multi.append(list(tuple(sample_labels)))\n",
    "label_counts = collections.Counter([a for r in y_multi for a in r])\n",
    "print('Counts by label:', dict(label_counts))"
   ]
  },
  {
   "cell_type": "code",
   "execution_count": null,
   "id": "998c1f58-70a1-4c4d-b00a-021eb1733c66",
   "metadata": {},
   "outputs": [],
   "source": [
    "sf = 0.5\n",
    "tfms = [None,TSMultiLabelClassification()]\n",
    "batch_tfms = [\n",
    "#              TSStandardize(by_sample=True),\n",
    "              tfs.Normalize(),\n",
    "              tfs.Scale(scale_factor=0.5),\n",
    "              tfs.BandPass(int(sf*500),3,45),\n",
    "#               tfs.RandomShift(0.1),\n",
    "#               tfs.MulNoise(6),\n",
    "#               tfs.CutOutWhenTraining(),\n",
    "             ]\n",
    "dsets = TSDatasets(X.astype(float), y_multi, tfms=tfms, splits=splits)\n",
    "dls   = TSDataLoaders.from_dsets(dsets.train,dsets.valid, bs=[64, 128], batch_tfms=batch_tfms, num_workers=0) \n",
    "# reorganize y dataframe using dl's label/vocab mapping and count pos_weights\n",
    "y = y[dls.vocab.o2i.keys()]\n",
    "pos_weight = torch.tensor((len(y)-y.sum())/(y.sum()+1e-5))\n",
    "metrics =[ precision_multi, recall_multi, specificity_multi, F1_multi] \n",
    "model = InceptionTimePlus(dls.vars, dls.c, dls.len, depth=10,)\n",
    "learn = Learner(dls, model, metrics=metrics, loss_func=nn.BCEWithLogitsLoss(),cbs=ShowGraph())\n",
    "learn.fit_one_cycle(200, lr_max=0.004178080960048705)\n",
    "learn.recorder.plot_metrics()"
   ]
  }
 ],
 "metadata": {
  "kernelspec": {
   "display_name": "Python 3 (ipykernel)",
   "language": "python",
   "name": "python3"
  },
  "language_info": {
   "codemirror_mode": {
    "name": "ipython",
    "version": 3
   },
   "file_extension": ".py",
   "mimetype": "text/x-python",
   "name": "python",
   "nbconvert_exporter": "python",
   "pygments_lexer": "ipython3",
   "version": "3.8.10"
  }
 },
 "nbformat": 4,
 "nbformat_minor": 5
}
