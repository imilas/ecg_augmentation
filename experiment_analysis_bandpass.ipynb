{
 "cells": [
  {
   "cell_type": "code",
   "execution_count": 25,
   "id": "93f5c9b4",
   "metadata": {},
   "outputs": [],
   "source": [
    "%matplotlib inline\n",
    "import cd_diagrams as cdd\n",
    "import importlib\n",
    "import pandas as pd\n",
    "import numpy as np\n",
    "import amir_tools as at\n",
    "import seaborn as sns\n",
    "import matplotlib.pyplot as plt\n",
    "import glob\n",
    "import seaborn as sns\n",
    "import functools as ft\n",
    "import matplotlib\n",
    "import warnings\n",
    "from matplotlib.colors import LinearSegmentedColormap\n",
    "from scipy import stats\n",
    "\n",
    "matplotlib.rc_file_defaults()\n",
    "datasets = [\"ChapmanShaoxing\",\"CPSC2018\",]\n",
    "models = [\"inception\",\"minirocket\",\"xresnet1d101\"]"
   ]
  },
  {
   "cell_type": "code",
   "execution_count": 293,
   "id": "d862de29-93bc-4e9b-a157-d74377580008",
   "metadata": {},
   "outputs": [],
   "source": [
    "\n",
    "def make_cdd_df(exp_df):\n",
    "    df_median = exp_df.reset_index()[[\"classifier_name\",\"dataset_name\",]]\n",
    "    df_median[\"value\"] = list(exp_df[exp_df.columns[1:-1]].mean(axis=1).values)\n",
    "    df_median.columns = [\"classifier_name\",\"dataset_name\",\"accuracy\"]\n",
    "    return df_median\n",
    "\n",
    "def cd_diagram_single_model(exp_df,title=\"Mean F1\",labels=False):\n",
    "    df_median = make_cdd_df(exp_df)\n",
    "    cdd.draw_cd_diagram(df_perf=df_median, title=title, labels=labels,alpha=0.05)\n",
    "    \n",
    "def draw_scatter_plot(exp_df):\n",
    "    sns.set(rc = {'figure.figsize':(30,8)})\n",
    "    sns.set(font_scale = 3)\n",
    "    data = exp_df.melt(id_vars = \"classifier_name\")\n",
    "    data[\"variable\"] = [at.label_shortner(x) for x in data[\"variable\"]]\n",
    "\n",
    "    #sns.boxplot(data=data,hue=\"classifier_name\",x=\"variable\",y=\"value\",)\n",
    "    ax = sns.stripplot(data=data,hue=\"classifier_name\",x=\"variable\",y=\"value\",dodge=True,size=8, edgecolor='gray',)\n",
    "    ax.set_xticklabels(ax.get_xticklabels(),fontsize=20,rotation=45)\n",
    "    ax.set_xlabel(\"\", fontsize = 25)\n",
    "    ax.set_ylabel(\"F1 Values\", fontsize = 25)\n",
    "    # ax.set_title(\"Expriment Results for MiniRocket on CPSC\", fontsize = 25)\n",
    "#     plt.legend( fontsize = 16)\n",
    "#     plt.tight_layout()\n",
    "    ax.legend(bbox_to_anchor=(1., 1), loc=2, borderaxespad=0.)\n",
    "    return plt\n",
    "\n",
    "def get_bp_experiments(model_name,dataset,clf_numbers=True,dataset_numbers=True):\n",
    "    # loads the experiment results\n",
    "    experiments = []\n",
    "    hp = 1 # we dont modify the HP\n",
    "    sc = 0.5\n",
    "    for lp in [\"30\",\"50\",\"100\",\"500\"]:\n",
    "        try:\n",
    "            for i in range(20):\n",
    "                if lp!=\"500\": \n",
    "                    df = pd.read_csv(\"models/bandpassing/csvs/%s_%s_sc-n-bp_%s_%s-%s_%s.csv\"%(model_name,dataset,sc,hp,lp,i))\n",
    "                else:\n",
    "                    df = pd.read_csv(\"models/scaling/csvs/%s_%s_sc-n_%s_%s.csv\"%(model_name,dataset,sc,i))\n",
    "                df = df[df.columns[0:-4]]\n",
    "                df = df.loc[df[\"index\"]==\"f1-score\"]\n",
    "                df = df.rename(columns={\"index\":\"classifier_name\"})\n",
    "                df[\"classifier_name\"] = model_name if clf_numbers==False else \"%s_%s\"%(model_name,lp)\n",
    "                df[\"dataset_name\"] = dataset if dataset_numbers==False else \"%s_%s\"%(dataset,i)\n",
    "                df[\"lp\"] = float(lp)\n",
    "                df[\"bootstrap\"] = i\n",
    "#                 df[\"hp\"] = hp\n",
    "                df.index = [i]\n",
    "                experiments.append(df)\n",
    "        except Exception as  e:\n",
    "            print(e)\n",
    "            continue\n",
    "    exp_df = pd.concat(experiments)\n",
    "    return exp_df\n",
    "\n",
    "\n"
   ]
  },
  {
   "cell_type": "code",
   "execution_count": 294,
   "id": "8054205c-1990-42ac-a662-50631b7e56fa",
   "metadata": {},
   "outputs": [
    {
     "data": {
      "text/html": [
       "<div>\n",
       "<style scoped>\n",
       "    .dataframe tbody tr th:only-of-type {\n",
       "        vertical-align: middle;\n",
       "    }\n",
       "\n",
       "    .dataframe tbody tr th {\n",
       "        vertical-align: top;\n",
       "    }\n",
       "\n",
       "    .dataframe thead th {\n",
       "        text-align: right;\n",
       "    }\n",
       "</style>\n",
       "<table border=\"1\" class=\"dataframe\">\n",
       "  <thead>\n",
       "    <tr style=\"text-align: right;\">\n",
       "      <th></th>\n",
       "      <th>classifier_name</th>\n",
       "      <th>lp</th>\n",
       "      <th>bootstrap</th>\n",
       "      <th>variable</th>\n",
       "      <th>value</th>\n",
       "    </tr>\n",
       "  </thead>\n",
       "  <tbody>\n",
       "    <tr>\n",
       "      <th>0</th>\n",
       "      <td>inception</td>\n",
       "      <td>30.0</td>\n",
       "      <td>0</td>\n",
       "      <td>1st degree av block</td>\n",
       "      <td>0.867647</td>\n",
       "    </tr>\n",
       "    <tr>\n",
       "      <th>1</th>\n",
       "      <td>inception</td>\n",
       "      <td>30.0</td>\n",
       "      <td>1</td>\n",
       "      <td>1st degree av block</td>\n",
       "      <td>0.833333</td>\n",
       "    </tr>\n",
       "    <tr>\n",
       "      <th>2</th>\n",
       "      <td>inception</td>\n",
       "      <td>30.0</td>\n",
       "      <td>2</td>\n",
       "      <td>1st degree av block</td>\n",
       "      <td>0.843750</td>\n",
       "    </tr>\n",
       "    <tr>\n",
       "      <th>3</th>\n",
       "      <td>inception</td>\n",
       "      <td>30.0</td>\n",
       "      <td>3</td>\n",
       "      <td>1st degree av block</td>\n",
       "      <td>0.850746</td>\n",
       "    </tr>\n",
       "    <tr>\n",
       "      <th>4</th>\n",
       "      <td>inception</td>\n",
       "      <td>30.0</td>\n",
       "      <td>4</td>\n",
       "      <td>1st degree av block</td>\n",
       "      <td>0.814815</td>\n",
       "    </tr>\n",
       "    <tr>\n",
       "      <th>...</th>\n",
       "      <td>...</td>\n",
       "      <td>...</td>\n",
       "      <td>...</td>\n",
       "      <td>...</td>\n",
       "      <td>...</td>\n",
       "    </tr>\n",
       "    <tr>\n",
       "      <th>1675</th>\n",
       "      <td>xresnet1d101</td>\n",
       "      <td>500.0</td>\n",
       "      <td>15</td>\n",
       "      <td>ventricular ectopics</td>\n",
       "      <td>0.683544</td>\n",
       "    </tr>\n",
       "    <tr>\n",
       "      <th>1676</th>\n",
       "      <td>xresnet1d101</td>\n",
       "      <td>500.0</td>\n",
       "      <td>16</td>\n",
       "      <td>ventricular ectopics</td>\n",
       "      <td>0.675325</td>\n",
       "    </tr>\n",
       "    <tr>\n",
       "      <th>1677</th>\n",
       "      <td>xresnet1d101</td>\n",
       "      <td>500.0</td>\n",
       "      <td>17</td>\n",
       "      <td>ventricular ectopics</td>\n",
       "      <td>0.736196</td>\n",
       "    </tr>\n",
       "    <tr>\n",
       "      <th>1678</th>\n",
       "      <td>xresnet1d101</td>\n",
       "      <td>500.0</td>\n",
       "      <td>18</td>\n",
       "      <td>ventricular ectopics</td>\n",
       "      <td>0.759494</td>\n",
       "    </tr>\n",
       "    <tr>\n",
       "      <th>1679</th>\n",
       "      <td>xresnet1d101</td>\n",
       "      <td>500.0</td>\n",
       "      <td>19</td>\n",
       "      <td>ventricular ectopics</td>\n",
       "      <td>0.705882</td>\n",
       "    </tr>\n",
       "  </tbody>\n",
       "</table>\n",
       "<p>1680 rows × 5 columns</p>\n",
       "</div>"
      ],
      "text/plain": [
       "     classifier_name     lp  bootstrap              variable     value\n",
       "0          inception   30.0          0   1st degree av block  0.867647\n",
       "1          inception   30.0          1   1st degree av block  0.833333\n",
       "2          inception   30.0          2   1st degree av block  0.843750\n",
       "3          inception   30.0          3   1st degree av block  0.850746\n",
       "4          inception   30.0          4   1st degree av block  0.814815\n",
       "...              ...    ...        ...                   ...       ...\n",
       "1675    xresnet1d101  500.0         15  ventricular ectopics  0.683544\n",
       "1676    xresnet1d101  500.0         16  ventricular ectopics  0.675325\n",
       "1677    xresnet1d101  500.0         17  ventricular ectopics  0.736196\n",
       "1678    xresnet1d101  500.0         18  ventricular ectopics  0.759494\n",
       "1679    xresnet1d101  500.0         19  ventricular ectopics  0.705882\n",
       "\n",
       "[1680 rows x 5 columns]"
      ]
     },
     "execution_count": 294,
     "metadata": {},
     "output_type": "execute_result"
    }
   ],
   "source": [
    "df = pd.concat([get_bp_experiments(x,\"CPSC2018\",clf_numbers=False) for x in models]).drop(columns=[\"dataset_name\"])\n",
    "df = df.melt(id_vars=[\"classifier_name\",\"lp\",\"bootstrap\"])\n",
    "df"
   ]
  },
  {
   "cell_type": "code",
   "execution_count": 295,
   "id": "a85353a6-f0fd-48bc-84ef-41108a4d3c18",
   "metadata": {},
   "outputs": [
    {
     "data": {
      "image/png": "[encoded data removed]",
      "text/plain": [
       "<Figure size 1200x235 with 1 Axes>"
      ]
     },
     "metadata": {},
     "output_type": "display_data"
    }
   ],
   "source": [
    "df = pd.concat([get_bp_experiments(x,\"ChapmanShaoxing\",clf_numbers=False) for x in models]).drop(columns=[\"dataset_name\"])\n",
    "df = df.melt(id_vars=[\"classifier_name\",\"lp\",\"bootstrap\"])\n",
    "df_cpsc = pd.DataFrame()\n",
    "df_cpsc[\"classifier_name\"] = df[\"classifier_name\"] + \"_\" + df[\"lp\"].astype(str)\n",
    "df_cpsc[\"dataset_name\"] = df[\"variable\"] +\"_\"+ df[\"bootstrap\"].astype(str)\n",
    "df_cpsc[\"accuracy\"] = df[\"value\"]\n",
    "plt,_,_ = cdd.draw_cd_diagram(df_perf=df_cpsc,alpha=0.05,labels=True)"
   ]
  },
  {
   "cell_type": "code",
   "execution_count": 296,
   "id": "70cee9d0-8449-43fb-9bcd-6f7de0459cd1",
   "metadata": {},
   "outputs": [
    {
     "data": {
      "text/html": [
       "<div>\n",
       "<style scoped>\n",
       "    .dataframe tbody tr th:only-of-type {\n",
       "        vertical-align: middle;\n",
       "    }\n",
       "\n",
       "    .dataframe tbody tr th {\n",
       "        vertical-align: top;\n",
       "    }\n",
       "\n",
       "    .dataframe thead th {\n",
       "        text-align: right;\n",
       "    }\n",
       "</style>\n",
       "<table border=\"1\" class=\"dataframe\">\n",
       "  <thead>\n",
       "    <tr style=\"text-align: right;\">\n",
       "      <th></th>\n",
       "      <th>lp</th>\n",
       "      <th>value</th>\n",
       "    </tr>\n",
       "  </thead>\n",
       "  <tbody>\n",
       "    <tr>\n",
       "      <th>lp</th>\n",
       "      <td>1.000000</td>\n",
       "      <td>-0.017628</td>\n",
       "    </tr>\n",
       "    <tr>\n",
       "      <th>value</th>\n",
       "      <td>-0.017628</td>\n",
       "      <td>1.000000</td>\n",
       "    </tr>\n",
       "  </tbody>\n",
       "</table>\n",
       "</div>"
      ],
      "text/plain": [
       "             lp     value\n",
       "lp     1.000000 -0.017628\n",
       "value -0.017628  1.000000"
      ]
     },
     "execution_count": 296,
     "metadata": {},
     "output_type": "execute_result"
    }
   ],
   "source": [
    "# correlation between lp and performance\n",
    "cdf = df[[\"lp\",\"value\"]]\n",
    "cdf.corr(method=\"pearson\")"
   ]
  },
  {
   "cell_type": "code",
   "execution_count": 297,
   "id": "0bfe0638-bbc7-49f0-9f59-e16a82ed8cb9",
   "metadata": {},
   "outputs": [
    {
     "data": {
      "text/plain": [
       "[['atrial fibrillation', -0.2126854267245268],\n",
       " ['left ventricular high voltage', -0.16385873893698313],\n",
       " ['nonspecific st t abnormality', -0.03474217544974611],\n",
       " ['sinus bradycardia', -0.028445408269347643],\n",
       " ['sinus rhythm', 0.062488993377566235],\n",
       " ['sinus tachycardia', 0.12001217717937702],\n",
       " ['supraventricular tachycardia', -0.1033480742566043],\n",
       " ['t wave abnormal', -0.0775763015625021]]"
      ]
     },
     "execution_count": 297,
     "metadata": {},
     "output_type": "execute_result"
    }
   ],
   "source": [
    "# correlation between lowpass and performance for each disease \n",
    "gb = df.groupby(\"variable\")\n",
    "groups = [[gb.get_group(x),x] for x in gb.groups]\n",
    "[[x[1],x[0][[\"lp\",\"value\"]].corr(method=\"pearson\")[\"value\"][0]] for x in groups]"
   ]
  },
  {
   "cell_type": "code",
   "execution_count": 298,
   "id": "853f725c-082d-45ca-992f-d8a8833140e7",
   "metadata": {},
   "outputs": [
    {
     "name": "stdout",
     "output_type": "stream",
     "text": [
      "classifier_name KruskalResult(statistic=3.648615267493736, pvalue=0.16132930443643517)\n",
      "lp KruskalResult(statistic=0.11663771431422448, pvalue=0.9433491058625432)\n",
      "bootstrap KruskalResult(statistic=1.373528815504045, pvalue=0.9999999866255607)\n",
      "variable KruskalResult(statistic=1365.6775633744091, pvalue=1.0296625905484772e-290)\n",
      "value KruskalResult(statistic=1438.9999999999998, pvalue=1.4661642567267037e-11)\n"
     ]
    }
   ],
   "source": [
    "# what factors are important for low-passed results\n",
    "df_filtered = df[df[\"lp\"]!=500]\n",
    "for c in df_filtered.columns:\n",
    "    gb = df_filtered.groupby(c)\n",
    "    groups = [[gb.get_group(x),x] for x in gb.groups]\n",
    "\n",
    "    print(c,stats.kruskal(*[g[0][\"value\"].values for g in groups]))"
   ]
  },
  {
   "cell_type": "code",
   "execution_count": 292,
   "id": "1b042f16-f3ed-4505-89ea-f355f5109ed7",
   "metadata": {},
   "outputs": [
    {
     "data": {
      "text/plain": [
       "KruskalResult(statistic=0.20292359009786082, pvalue=0.6523712856599244)"
      ]
     },
     "execution_count": 292,
     "metadata": {},
     "output_type": "execute_result"
    }
   ],
   "source": [
    "# is there a difference between filtered and unfiltered results?\n",
    "s1 = df[df[\"lp\"]!=500][\"value\"]\n",
    "s2 = df[df[\"lp\"]==500][\"value\"]\n",
    "stats.kruskal(s1,s2)"
   ]
  },
  {
   "cell_type": "code",
   "execution_count": null,
   "id": "05f87e7f-2c8c-45a6-95b4-31f3a5137d98",
   "metadata": {},
   "outputs": [],
   "source": []
  }
 ],
 "metadata": {
  "kernelspec": {
   "display_name": "Python 3 (ipykernel)",
   "language": "python",
   "name": "python3"
  },
  "language_info": {
   "codemirror_mode": {
    "name": "ipython",
    "version": 3
   },
   "file_extension": ".py",
   "mimetype": "text/x-python",
   "name": "python",
   "nbconvert_exporter": "python",
   "pygments_lexer": "ipython3",
   "version": "3.10.4"
  }
 },
 "nbformat": 4,
 "nbformat_minor": 5
}
